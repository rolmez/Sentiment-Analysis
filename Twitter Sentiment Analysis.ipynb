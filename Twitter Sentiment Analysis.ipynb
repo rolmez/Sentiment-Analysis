{
 "cells": [
  {
   "cell_type": "markdown",
   "metadata": {},
   "source": [
    "# <a class=\"anchor\" id=0.>Contents</a>\n",
    "\n",
    "* [1. Introduction](#1.)\n",
    "    * [1.1. Import Liblaries](#1.1.)\n",
    "* [2. About Dataset](#2.)\n",
    "* [3. Loading Dataset](#3.)\n",
    "    * [3.1. Visualize The Dataset](#3.1.)\n",
    "    * [3.2. Emoticons Used in the Dataset](#3.2.)\n",
    "* [4. Normalization & Preprocessing & Stemming](#4.)\n",
    "    * [4.1. Text Normalization](#4.1.)\n",
    "    * [4.2. Preprocessing](#4.2.)\n",
    "    * [4.3. Removing Stopwords](#4.3.)\n",
    "    * [4.4. Text Stemming](#4.4.)\n",
    "* [5. Feature Extraction](#5.)\n",
    "    * [5.1. Split Dataset into Train and Test](#5.1.)\n",
    "    * [5.2. Bag of Words](#5.2.)\n",
    "    * [5.3. Term FrequencyxInverse Document Frequency / TFxIDF](#5.3.)\n",
    "* [6. Modelling the Dataset](#6.)\n",
    "    * [6.1. Logistic Regression](#6.1.)\n",
    "    * [6.2. SGDClassifier](#6.2.)\n",
    "    * [6.3. Naive Bayes](#6.3.)"
   ]
  },
  {
   "cell_type": "markdown",
   "metadata": {},
   "source": [
    "# <a class=\"anchor\" id=\"1.\">1. Introduction</a>\n",
    "\n",
    "Sentiment analysis (also known as opinion mining or emotion AI) refers to the use of natural language processing, text analysis, computational linguistics, and biometrics to systematically identify, extract, quantify, and study affective states and subjective information. Sentiment analysis is widely applied to voice of the customer materials such as reviews and survey responses, online and social media, and healthcare materials for applications that range from marketing to customer service to clinical medicine. \n"
   ]
  },
  {
   "cell_type": "markdown",
   "metadata": {},
   "source": [
    "## <a class=\"anchor\" id=\"1.1.\">1.1. Import Liblaries</a>"
   ]
  },
  {
   "cell_type": "code",
   "execution_count": 4,
   "metadata": {},
   "outputs": [
    {
     "name": "stdout",
     "output_type": "stream",
     "text": [
      "0.22.1\n",
      "3.1.3\n",
      "1.18.1\n",
      "1.0.3\n",
      "3.4.5\n"
     ]
    }
   ],
   "source": [
    "import pandas as pd\n",
    "import numpy as np\n",
    "import nltk\n",
    "from bs4 import BeautifulSoup\n",
    "import seaborn as sns\n",
    "import matplotlib\n",
    "import matplotlib.pyplot as plt\n",
    "from collections import Counter\n",
    "from wordcloud import WordCloud\n",
    "from nltk.tokenize.toktok import ToktokTokenizer\n",
    "from snowballstemmer import TurkishStemmer\n",
    "import sklearn\n",
    "from sklearn.model_selection import train_test_split\n",
    "from sklearn.feature_extraction.text import CountVectorizer\n",
    "from sklearn.feature_extraction.text import TfidfVectorizer\n",
    "from sklearn.linear_model import LogisticRegression,SGDClassifier\n",
    "from sklearn.metrics import classification_report,confusion_matrix,accuracy_score\n",
    "from sklearn.naive_bayes import MultinomialNB\n",
    "import re\n",
    "\n",
    "pd.options.display.max_colwidth = 280 # For showing big tweets\n",
    "%matplotlib inline\n",
    "import os\n",
    "import warnings\n",
    "warnings.filterwarnings('ignore')\n",
    "\n",
    "print(sklearn.__version__)\n",
    "print(matplotlib.__version__)\n",
    "print(np.__version__)\n",
    "print(pd.__version__)\n",
    "print(nltk.__version__)"
   ]
  },
  {
   "cell_type": "markdown",
   "metadata": {},
   "source": [
    "# <a class=\"anchor\" id=\"2.\">2. About Dataset</a>\n",
    "\n",
    "This work was done with 10700 tweets obtained via Twitter. The data were mined using the \"Turkcell\" keyword. (Turkcell: Turkcell is a converged telecommunication and technology services provider, founded and headquartered in Turkey.)\n",
    "\n",
    "Twitter scraping was carried out using Twitter Intelligence Tool (TWINT) and the Tweepy library.\n",
    "\n",
    "* Tweepy: https://www.tweepy.org/\n",
    "* Twint: https://github.com/twintproject/twint"
   ]
  },
  {
   "cell_type": "markdown",
   "metadata": {},
   "source": [
    "# <a class=\"anchor\" id=\"3.\">3. Loading Dataset</a>"
   ]
  },
  {
   "cell_type": "code",
   "execution_count": 5,
   "metadata": {},
   "outputs": [
    {
     "data": {
      "text/html": [
       "<div>\n",
       "<style scoped>\n",
       "    .dataframe tbody tr th:only-of-type {\n",
       "        vertical-align: middle;\n",
       "    }\n",
       "\n",
       "    .dataframe tbody tr th {\n",
       "        vertical-align: top;\n",
       "    }\n",
       "\n",
       "    .dataframe thead th {\n",
       "        text-align: right;\n",
       "    }\n",
       "</style>\n",
       "<table border=\"1\" class=\"dataframe\">\n",
       "  <thead>\n",
       "    <tr style=\"text-align: right;\">\n",
       "      <th></th>\n",
       "      <th>Tweets</th>\n",
       "      <th>Sentiment</th>\n",
       "    </tr>\n",
       "  </thead>\n",
       "  <tbody>\n",
       "    <tr>\n",
       "      <th>0</th>\n",
       "      <td>Turkcell'in sahibi kim..Atarı kime acaba bu arkadaşın..</td>\n",
       "      <td>Positive</td>\n",
       "    </tr>\n",
       "    <tr>\n",
       "      <th>1</th>\n",
       "      <td>Benim var dışardan gelene 50 lira yaptığınız tarife 17 yıllık müşteriniz olan bana 105 lira. Değiştireceğim az kaldo @vodafone @Turkcell hangisi daha uygunsa.</td>\n",
       "      <td>Positive</td>\n",
       "    </tr>\n",
       "    <tr>\n",
       "      <th>2</th>\n",
       "      <td>@TurkcellHizmet  acaba Turkcell bana da bi kalp gönderir mi ?</td>\n",
       "      <td>Positive</td>\n",
       "    </tr>\n",
       "    <tr>\n",
       "      <th>3</th>\n",
       "      <td>Turkcell ceo dediki. Cezanın ayarını cezayı yazan arkadaşların kendi vicdanlarına bırakıyorum. Bizdeki 1 saat 15 dakikalık yoğunluk, kesinti değil. Yoğunluk, karşısında ise 27 saat kesinti. Herkes elini vicdanına koysun. Cezanın bedelini de vicdanına sorsun”</td>\n",
       "      <td>Positive</td>\n",
       "    </tr>\n",
       "    <tr>\n",
       "      <th>4</th>\n",
       "      <td>15 günlük @TurkTelekom meceramda anladımkı ucuz etin yahnisi olmazmış keşke  bizi hakkıyla öpen @Turkcell den ayrılmasaydım nasipse yarın saat 14.26 suları itibari ile bıraktığımız yerden devam edicez @Turkcell iyiki varsın 💪</td>\n",
       "      <td>Positive</td>\n",
       "    </tr>\n",
       "  </tbody>\n",
       "</table>\n",
       "</div>"
      ],
      "text/plain": [
       "                                                                                                                                                                                                                                                               Tweets  \\\n",
       "0                                                                                                                                                                                                             Turkcell'in sahibi kim..Atarı kime acaba bu arkadaşın..   \n",
       "1                                                                                                      Benim var dışardan gelene 50 lira yaptığınız tarife 17 yıllık müşteriniz olan bana 105 lira. Değiştireceğim az kaldo @vodafone @Turkcell hangisi daha uygunsa.   \n",
       "2                                                                                                                                                                                                      @TurkcellHizmet  acaba Turkcell bana da bi kalp gönderir mi ?    \n",
       "3  Turkcell ceo dediki. Cezanın ayarını cezayı yazan arkadaşların kendi vicdanlarına bırakıyorum. Bizdeki 1 saat 15 dakikalık yoğunluk, kesinti değil. Yoğunluk, karşısında ise 27 saat kesinti. Herkes elini vicdanına koysun. Cezanın bedelini de vicdanına sorsun”   \n",
       "4                                   15 günlük @TurkTelekom meceramda anladımkı ucuz etin yahnisi olmazmış keşke  bizi hakkıyla öpen @Turkcell den ayrılmasaydım nasipse yarın saat 14.26 suları itibari ile bıraktığımız yerden devam edicez @Turkcell iyiki varsın 💪   \n",
       "\n",
       "  Sentiment  \n",
       "0  Positive  \n",
       "1  Positive  \n",
       "2  Positive  \n",
       "3  Positive  \n",
       "4  Positive  "
      ]
     },
     "execution_count": 5,
     "metadata": {},
     "output_type": "execute_result"
    }
   ],
   "source": [
    "turkcell_data = pd.read_csv(\"turkcell.csv\")\n",
    "turkcell_data = turkcell_data.drop(['created_at', 'date', 'time', 'username'], axis = 1)\n",
    "turkcell_data.columns = ['Tweets', 'Sentiment']\n",
    "turkcell_data.Sentiment.replace([0, 4], ['Negative', 'Positive'], inplace = True)\n",
    "turkcell_data.head()"
   ]
  },
  {
   "cell_type": "markdown",
   "metadata": {},
   "source": [
    "### Information about data"
   ]
  },
  {
   "cell_type": "code",
   "execution_count": 6,
   "metadata": {},
   "outputs": [
    {
     "data": {
      "text/html": [
       "<div>\n",
       "<style scoped>\n",
       "    .dataframe tbody tr th:only-of-type {\n",
       "        vertical-align: middle;\n",
       "    }\n",
       "\n",
       "    .dataframe tbody tr th {\n",
       "        vertical-align: top;\n",
       "    }\n",
       "\n",
       "    .dataframe thead th {\n",
       "        text-align: right;\n",
       "    }\n",
       "</style>\n",
       "<table border=\"1\" class=\"dataframe\">\n",
       "  <thead>\n",
       "    <tr style=\"text-align: right;\">\n",
       "      <th></th>\n",
       "      <th>Tweets</th>\n",
       "      <th>Sentiment</th>\n",
       "    </tr>\n",
       "  </thead>\n",
       "  <tbody>\n",
       "    <tr>\n",
       "      <th>count</th>\n",
       "      <td>10700</td>\n",
       "      <td>10700</td>\n",
       "    </tr>\n",
       "    <tr>\n",
       "      <th>unique</th>\n",
       "      <td>10644</td>\n",
       "      <td>2</td>\n",
       "    </tr>\n",
       "    <tr>\n",
       "      <th>top</th>\n",
       "      <td>Turkcell</td>\n",
       "      <td>Positive</td>\n",
       "    </tr>\n",
       "    <tr>\n",
       "      <th>freq</th>\n",
       "      <td>8</td>\n",
       "      <td>5500</td>\n",
       "    </tr>\n",
       "  </tbody>\n",
       "</table>\n",
       "</div>"
      ],
      "text/plain": [
       "          Tweets Sentiment\n",
       "count      10700     10700\n",
       "unique     10644         2\n",
       "top     Turkcell  Positive\n",
       "freq           8      5500"
      ]
     },
     "execution_count": 6,
     "metadata": {},
     "output_type": "execute_result"
    }
   ],
   "source": [
    "turkcell_data.describe()"
   ]
  },
  {
   "cell_type": "code",
   "execution_count": 7,
   "metadata": {},
   "outputs": [
    {
     "data": {
      "text/plain": [
       "Positive    5500\n",
       "Negative    5200\n",
       "Name: Sentiment, dtype: int64"
      ]
     },
     "execution_count": 7,
     "metadata": {},
     "output_type": "execute_result"
    }
   ],
   "source": [
    "turkcell_data['Sentiment'].value_counts()"
   ]
  },
  {
   "cell_type": "code",
   "execution_count": 8,
   "metadata": {},
   "outputs": [
    {
     "data": {
      "text/html": [
       "<div>\n",
       "<style scoped>\n",
       "    .dataframe tbody tr th:only-of-type {\n",
       "        vertical-align: middle;\n",
       "    }\n",
       "\n",
       "    .dataframe tbody tr th {\n",
       "        vertical-align: top;\n",
       "    }\n",
       "\n",
       "    .dataframe thead th {\n",
       "        text-align: right;\n",
       "    }\n",
       "</style>\n",
       "<table border=\"1\" class=\"dataframe\">\n",
       "  <thead>\n",
       "    <tr style=\"text-align: right;\">\n",
       "      <th></th>\n",
       "      <th>Tweets</th>\n",
       "      <th>Sentiment</th>\n",
       "      <th>TextSize</th>\n",
       "    </tr>\n",
       "  </thead>\n",
       "  <tbody>\n",
       "    <tr>\n",
       "      <th>0</th>\n",
       "      <td>Turkcell'in sahibi kim..Atarı kime acaba bu arkadaşın..</td>\n",
       "      <td>Positive</td>\n",
       "      <td>55</td>\n",
       "    </tr>\n",
       "    <tr>\n",
       "      <th>1</th>\n",
       "      <td>Benim var dışardan gelene 50 lira yaptığınız tarife 17 yıllık müşteriniz olan bana 105 lira. Değiştireceğim az kaldo @vodafone @Turkcell hangisi daha uygunsa.</td>\n",
       "      <td>Positive</td>\n",
       "      <td>158</td>\n",
       "    </tr>\n",
       "    <tr>\n",
       "      <th>2</th>\n",
       "      <td>@TurkcellHizmet  acaba Turkcell bana da bi kalp gönderir mi ?</td>\n",
       "      <td>Positive</td>\n",
       "      <td>62</td>\n",
       "    </tr>\n",
       "    <tr>\n",
       "      <th>3</th>\n",
       "      <td>Turkcell ceo dediki. Cezanın ayarını cezayı yazan arkadaşların kendi vicdanlarına bırakıyorum. Bizdeki 1 saat 15 dakikalık yoğunluk, kesinti değil. Yoğunluk, karşısında ise 27 saat kesinti. Herkes elini vicdanına koysun. Cezanın bedelini de vicdanına sorsun”</td>\n",
       "      <td>Positive</td>\n",
       "      <td>258</td>\n",
       "    </tr>\n",
       "    <tr>\n",
       "      <th>4</th>\n",
       "      <td>15 günlük @TurkTelekom meceramda anladımkı ucuz etin yahnisi olmazmış keşke  bizi hakkıyla öpen @Turkcell den ayrılmasaydım nasipse yarın saat 14.26 suları itibari ile bıraktığımız yerden devam edicez @Turkcell iyiki varsın 💪</td>\n",
       "      <td>Positive</td>\n",
       "      <td>225</td>\n",
       "    </tr>\n",
       "  </tbody>\n",
       "</table>\n",
       "</div>"
      ],
      "text/plain": [
       "                                                                                                                                                                                                                                                               Tweets  \\\n",
       "0                                                                                                                                                                                                             Turkcell'in sahibi kim..Atarı kime acaba bu arkadaşın..   \n",
       "1                                                                                                      Benim var dışardan gelene 50 lira yaptığınız tarife 17 yıllık müşteriniz olan bana 105 lira. Değiştireceğim az kaldo @vodafone @Turkcell hangisi daha uygunsa.   \n",
       "2                                                                                                                                                                                                      @TurkcellHizmet  acaba Turkcell bana da bi kalp gönderir mi ?    \n",
       "3  Turkcell ceo dediki. Cezanın ayarını cezayı yazan arkadaşların kendi vicdanlarına bırakıyorum. Bizdeki 1 saat 15 dakikalık yoğunluk, kesinti değil. Yoğunluk, karşısında ise 27 saat kesinti. Herkes elini vicdanına koysun. Cezanın bedelini de vicdanına sorsun”   \n",
       "4                                   15 günlük @TurkTelekom meceramda anladımkı ucuz etin yahnisi olmazmış keşke  bizi hakkıyla öpen @Turkcell den ayrılmasaydım nasipse yarın saat 14.26 suları itibari ile bıraktığımız yerden devam edicez @Turkcell iyiki varsın 💪   \n",
       "\n",
       "  Sentiment  TextSize  \n",
       "0  Positive        55  \n",
       "1  Positive       158  \n",
       "2  Positive        62  \n",
       "3  Positive       258  \n",
       "4  Positive       225  "
      ]
     },
     "execution_count": 8,
     "metadata": {},
     "output_type": "execute_result"
    }
   ],
   "source": [
    "turkcell_data['TextSize'] = [len(t) for t in turkcell_data.Tweets]\n",
    "turkcell_data.head()"
   ]
  },
  {
   "cell_type": "code",
   "execution_count": 9,
   "metadata": {},
   "outputs": [
    {
     "data": {
      "text/plain": [
       "147.89514018691588"
      ]
     },
     "execution_count": 9,
     "metadata": {},
     "output_type": "execute_result"
    }
   ],
   "source": [
    "turkcell_data['TextSize'].mean()"
   ]
  },
  {
   "cell_type": "code",
   "execution_count": 10,
   "metadata": {},
   "outputs": [
    {
     "data": {
      "image/png": "[encoded data removed]",
      "text/plain": [
       "<Figure size 432x288 with 1 Axes>"
      ]
     },
     "metadata": {
      "needs_background": "light"
     },
     "output_type": "display_data"
    }
   ],
   "source": [
    "plt.boxplot(turkcell_data.TextSize) # plot TextSize column\n",
    "plt.show()"
   ]
  },
  {
   "cell_type": "markdown",
   "metadata": {},
   "source": [
    "## <a class=\"anchor\" id=\"3.1.\">3.1. Visualize the Dataset</a>"
   ]
  },
  {
   "cell_type": "code",
   "execution_count": 11,
   "metadata": {},
   "outputs": [
    {
     "data": {
      "text/plain": [
       "Text(0.5, 1.0, 'Dataset labels distribuition')"
      ]
     },
     "execution_count": 11,
     "metadata": {},
     "output_type": "execute_result"
    },
    {
     "data": {
      "image/png": "[encoded data removed]",
      "text/plain": [
       "<Figure size 1152x576 with 1 Axes>"
      ]
     },
     "metadata": {
      "needs_background": "light"
     },
     "output_type": "display_data"
    }
   ],
   "source": [
    "target_tdS = Counter(turkcell_data.Sentiment)\n",
    "\n",
    "plt.figure(figsize=(16,8))\n",
    "plt.bar(target_tdS.keys(), target_tdS.values())\n",
    "plt.title(\"Dataset labels distribuition\")"
   ]
  },
  {
   "cell_type": "markdown",
   "metadata": {},
   "source": [
    "## <a class=\"anchor\" id=\"3.2.\">3.2. Emoticons Used in the Dataset</a>"
   ]
  },
  {
   "cell_type": "code",
   "execution_count": 12,
   "metadata": {},
   "outputs": [
    {
     "data": {
      "text/plain": [
       "[(883, ':/'),\n",
       " (161, ': '),\n",
       " (159, ':)'),\n",
       " (49, ':('),\n",
       " (32, ':D'),\n",
       " (11, 'X2'),\n",
       " (9, 'x2'),\n",
       " (9, ':d'),\n",
       " (5, 'x4'),\n",
       " (4, ';)'),\n",
       " (2, \":')\")]"
      ]
     },
     "execution_count": 12,
     "metadata": {},
     "output_type": "execute_result"
    }
   ],
   "source": [
    "tweets_text = turkcell_data.Tweets.str.cat()\n",
    "emoticons = set(re.findall(r\" ([xX:;][-']?.) \", tweets_text))\n",
    "emoticons_count = []\n",
    "for emot in emoticons:\n",
    "    emoticons_count.append((tweets_text.count(emot), emot))\n",
    "sorted(emoticons_count, reverse=True)"
   ]
  },
  {
   "cell_type": "code",
   "execution_count": 13,
   "metadata": {},
   "outputs": [
    {
     "name": "stdout",
     "output_type": "stream",
     "text": [
      "Happy emoticons: {':d', ':', ':)', ':D', ';', ';)'}\n",
      "Sad emoticons: {':(', ':/'}\n"
     ]
    }
   ],
   "source": [
    "happy_emot = r\" ([xX;:]-?[dD)]|:-?[\\)]|[;:]|[:')][pP]) \"\n",
    "sad_emot = r\" (:'?[/|\\(]) \"\n",
    "print(\"Happy emoticons:\", set(re.findall(happy_emot, tweets_text)))\n",
    "print(\"Sad emoticons:\", set(re.findall(sad_emot, tweets_text)))"
   ]
  },
  {
   "cell_type": "markdown",
   "metadata": {},
   "source": [
    "# <a class=\"anchor\" id=\"4.\">4. Normalization & Preprocessing & Stemming</a>"
   ]
  },
  {
   "cell_type": "markdown",
   "metadata": {},
   "source": [
    "## <a class=\"anchor\" id=\"4.1.\">4.1. Text Normalization</a>"
   ]
  },
  {
   "cell_type": "code",
   "execution_count": 14,
   "metadata": {},
   "outputs": [],
   "source": [
    "#Tokenization of text\n",
    "tokenizer = ToktokTokenizer()\n",
    "\n",
    "#Setting Turkish stopwords\n",
    "stopword_list = open('turkce-stop-words', 'r').read().split()"
   ]
  },
  {
   "cell_type": "code",
   "execution_count": 15,
   "metadata": {},
   "outputs": [],
   "source": [
    "def most_used_words(text):\n",
    "    tokens = tokenizer.tokenize(text)\n",
    "    frequency_dist = nltk.FreqDist(tokens)\n",
    "    print(\"There is %d different words\" % len(set(tokens)))\n",
    "    return sorted(frequency_dist, key=frequency_dist.__getitem__, reverse=True)"
   ]
  },
  {
   "cell_type": "code",
   "execution_count": 16,
   "metadata": {},
   "outputs": [
    {
     "name": "stdout",
     "output_type": "stream",
     "text": [
      "There is 49132 different words\n"
     ]
    },
    {
     "data": {
      "text/plain": [
       "['!',\n",
       " '\"',\n",
       " '#Turkcell',\n",
       " '#turkcell',\n",
       " \"'\",\n",
       " '(',\n",
       " ')',\n",
       " ',',\n",
       " '.',\n",
       " '..',\n",
       " '...',\n",
       " '1',\n",
       " '10',\n",
       " '2',\n",
       " '20',\n",
       " '3',\n",
       " '4',\n",
       " '5',\n",
       " ':',\n",
       " '?',\n",
       " '@TurkTelekom',\n",
       " '@Turkcell',\n",
       " '@TurkcellHizmet',\n",
       " '@VodafoneTR',\n",
       " 'Allah',\n",
       " 'Bir',\n",
       " 'Bu',\n",
       " 'GB',\n",
       " 'Superonline',\n",
       " 'TL',\n",
       " 'Telekom',\n",
       " 'Turkcell',\n",
       " 'Türk',\n",
       " 'Vodafone',\n",
       " 'a',\n",
       " 'ama',\n",
       " 'artık',\n",
       " 'ay',\n",
       " 'aynı',\n",
       " 'bana',\n",
       " 'başka',\n",
       " 'ben',\n",
       " 'beni',\n",
       " 'benim',\n",
       " 'bi',\n",
       " 'bile',\n",
       " 'bir',\n",
       " 'biz',\n",
       " 'bu',\n",
       " 'bunu',\n",
       " 'böyle',\n",
       " 'cevap',\n",
       " 'da',\n",
       " 'daha',\n",
       " 'dan',\n",
       " 'de',\n",
       " 'den',\n",
       " 'destek',\n",
       " 'devam',\n",
       " 'değil',\n",
       " 'diye',\n",
       " 'e',\n",
       " 'en',\n",
       " 'evde',\n",
       " 'fatura',\n",
       " 'fazla',\n",
       " 'gb',\n",
       " 'geri',\n",
       " 'geçtim',\n",
       " 'gibi',\n",
       " 'gün',\n",
       " 'gündür',\n",
       " 'güzel',\n",
       " 'hala',\n",
       " 'hat',\n",
       " 'hediye',\n",
       " 'hem',\n",
       " 'her',\n",
       " 'hizmet',\n",
       " 'hiç',\n",
       " 'i',\n",
       " 'ile',\n",
       " 'ilk',\n",
       " 'in',\n",
       " 'internet',\n",
       " 'interneti',\n",
       " 'iptal',\n",
       " 'iyi',\n",
       " 'için',\n",
       " 'iş',\n",
       " 'kadar',\n",
       " 'ki',\n",
       " 'kullanıyorum',\n",
       " 'lira',\n",
       " 'mesaj',\n",
       " 'mi',\n",
       " 'mu',\n",
       " 'müşteri',\n",
       " 'mı',\n",
       " 'nasıl',\n",
       " 'ne',\n",
       " 'neden',\n",
       " 'o',\n",
       " 'olan',\n",
       " 'olarak',\n",
       " 'oldu',\n",
       " 'olsun',\n",
       " 'olur',\n",
       " 'operatör',\n",
       " 'paket',\n",
       " 'para',\n",
       " 'rağmen',\n",
       " 'saat',\n",
       " 'sadece',\n",
       " 'sen',\n",
       " 'siz',\n",
       " 'size',\n",
       " 'sizin',\n",
       " 'son',\n",
       " 'sonra',\n",
       " 'sorun',\n",
       " 'superbox',\n",
       " 'sürekli',\n",
       " 'telefon',\n",
       " 'tl',\n",
       " 'turkcell',\n",
       " 'tüm',\n",
       " 'var',\n",
       " 've',\n",
       " 'vodafone',\n",
       " 'ya',\n",
       " 'ye',\n",
       " 'yeni',\n",
       " 'yerde',\n",
       " 'yine',\n",
       " 'yok',\n",
       " 'yok.',\n",
       " 'zaman',\n",
       " 'zaten',\n",
       " 'zor',\n",
       " 'çekmiyor',\n",
       " 'çok',\n",
       " 'çözüm',\n",
       " 'önce',\n",
       " 'İnternet',\n",
       " 'şekilde',\n",
       " 'şey',\n",
       " 'şu',\n",
       " '’',\n",
       " '…']"
      ]
     },
     "execution_count": 16,
     "metadata": {},
     "output_type": "execute_result"
    }
   ],
   "source": [
    "sorted(most_used_words(turkcell_data.Tweets.str.cat())[:150])"
   ]
  },
  {
   "cell_type": "code",
   "execution_count": 17,
   "metadata": {},
   "outputs": [
    {
     "name": "stdout",
     "output_type": "stream",
     "text": [
      "There is 49132 different words\n"
     ]
    }
   ],
   "source": [
    "mw = most_used_words(turkcell_data.Tweets.str.cat())\n",
    "most_words = []\n",
    "for w in mw:\n",
    "    if len(most_words) == 1000:\n",
    "        break\n",
    "    if w in stopword_list:\n",
    "        continue\n",
    "    else:\n",
    "        most_words.append(w)"
   ]
  },
  {
   "cell_type": "code",
   "execution_count": 18,
   "metadata": {},
   "outputs": [
    {
     "data": {
      "text/plain": [
       "['!',\n",
       " '\"',\n",
       " '#Turkcell',\n",
       " '#turkcell',\n",
       " \"'\",\n",
       " '(',\n",
       " ')',\n",
       " ',',\n",
       " '.',\n",
       " '..',\n",
       " '...',\n",
       " '1',\n",
       " '10',\n",
       " '15',\n",
       " '2',\n",
       " '20',\n",
       " '24',\n",
       " '3',\n",
       " '30',\n",
       " '4',\n",
       " '5',\n",
       " '6',\n",
       " ':',\n",
       " '?',\n",
       " '@SuperYardim',\n",
       " '@TurkTelekom',\n",
       " '@Turkcell',\n",
       " '@TurkcellHizmet',\n",
       " '@VodafoneDestek',\n",
       " '@VodafoneTR',\n",
       " '@turkcell',\n",
       " 'Allah',\n",
       " 'Ama',\n",
       " 'Ben',\n",
       " 'Bir',\n",
       " 'Bu',\n",
       " 'GB',\n",
       " 'Ne',\n",
       " 'Superonline',\n",
       " 'TL',\n",
       " 'TURKCELL',\n",
       " 'Telekom',\n",
       " 'Turkcell',\n",
       " 'Türk',\n",
       " 'Vodafone',\n",
       " 'a',\n",
       " 'an',\n",
       " 'ay',\n",
       " 'aydır',\n",
       " 'aynı',\n",
       " 'başka',\n",
       " 'be',\n",
       " 'bedeli',\n",
       " 'bende',\n",
       " 'bi',\n",
       " 'bugün',\n",
       " 'büyük',\n",
       " 'cevap',\n",
       " 'dakika',\n",
       " 'den',\n",
       " 'destek',\n",
       " 'devam',\n",
       " 'değil',\n",
       " 'dk',\n",
       " 'dönüş',\n",
       " 'ev',\n",
       " 'evde',\n",
       " 'fatura',\n",
       " 'fazla',\n",
       " 'gb',\n",
       " 'geldi',\n",
       " 'gelen',\n",
       " 'geri',\n",
       " 'gerçekten',\n",
       " 'geçiş',\n",
       " 'geçtim',\n",
       " 'gün',\n",
       " 'gündür',\n",
       " 'günlerde',\n",
       " 'güzel',\n",
       " 'hafta',\n",
       " 'hat',\n",
       " 'hattı',\n",
       " 'hattım',\n",
       " 'hattımı',\n",
       " 'hayat',\n",
       " 'hayata',\n",
       " 'hediye',\n",
       " 'hemen',\n",
       " 'hizmet',\n",
       " 'hizmetleri',\n",
       " 'hız',\n",
       " 'ilk',\n",
       " 'in',\n",
       " 'internet',\n",
       " 'internete',\n",
       " 'interneti',\n",
       " 'iptal',\n",
       " 'istiyorum',\n",
       " 'iyi',\n",
       " 'iş',\n",
       " 'kere',\n",
       " 'kullanıyorum',\n",
       " 'kötü',\n",
       " 'lira',\n",
       " 'lütfen',\n",
       " 'mesaj',\n",
       " 'mobil',\n",
       " 'müşteri',\n",
       " 'nedir',\n",
       " 'operatör',\n",
       " 'pahalı',\n",
       " 'paket',\n",
       " 'paketi',\n",
       " 'para',\n",
       " 'saat',\n",
       " 'salla',\n",
       " 'son',\n",
       " 'sorun',\n",
       " 'sorunu',\n",
       " 'superbox',\n",
       " 'superonline',\n",
       " 'sürekli',\n",
       " 'tek',\n",
       " 'telefon',\n",
       " 'teşekkür',\n",
       " 'teşekkürler',\n",
       " 'tl',\n",
       " 'turkcell',\n",
       " 'var.',\n",
       " 'vodafone',\n",
       " 'yardımcı',\n",
       " 'yeni',\n",
       " 'yerde',\n",
       " 'yok',\n",
       " 'yok.',\n",
       " 'yıl',\n",
       " 'yıldır',\n",
       " 'zaman',\n",
       " 'zamanda',\n",
       " 'zor',\n",
       " 'çekim',\n",
       " 'çekmiyor',\n",
       " 'çözüm',\n",
       " 'ücretsiz',\n",
       " 'üzerinden',\n",
       " 'İnternet',\n",
       " '’',\n",
       " '”',\n",
       " '…']"
      ]
     },
     "execution_count": 18,
     "metadata": {},
     "output_type": "execute_result"
    }
   ],
   "source": [
    "sorted(most_words[:150])"
   ]
  },
  {
   "cell_type": "markdown",
   "metadata": {},
   "source": [
    "## <a class=\"anchor\" id=\"4.2.\">4.2. Preprocessing</a>"
   ]
  },
  {
   "cell_type": "code",
   "execution_count": 19,
   "metadata": {},
   "outputs": [],
   "source": [
    "# Remove the html\n",
    "def strip_html(text):\n",
    "    soup = BeautifulSoup(text, \"html.parser\")\n",
    "    return soup.get_text()\n",
    "\n",
    "# Remove the square brackets\n",
    "def remove_between_square_brackets(text):\n",
    "    return re.sub('\\[[^]]*\\]', '', text)\n",
    "\n",
    "# Remove the noisy text\n",
    "def denoise_text(text):\n",
    "    text = strip_html(text)\n",
    "    text = remove_between_square_brackets(text)\n",
    "    return text\n",
    "\n",
    "turkcell_data['Tweets'] = turkcell_data['Tweets'].apply(denoise_text)"
   ]
  },
  {
   "cell_type": "code",
   "execution_count": 20,
   "metadata": {},
   "outputs": [],
   "source": [
    "def stemWord(text):\n",
    "    return text.lower()\n",
    "\n",
    "# Remove usernames\n",
    "def removeUsernames(text):\n",
    "    return re.sub('@[^\\s]+', '', text)\n",
    "\n",
    "# Remove hashtags\n",
    "def removeHashtags(text):\n",
    "    return re.sub(r'#[^\\s]+', ' ', text)\n",
    "\n",
    "# Remove punctuation\n",
    "def removePunctuation(text):\n",
    "    return re.sub(r'[^\\w\\s]', ' ', text)\n",
    "\n",
    "# Remove single character\n",
    "def singleCharacterRemove(text):\n",
    "    return re.sub(r'(?:^| )\\w(?:$| )', ' ', text)\n",
    "                  \n",
    "# Remove emoticon\n",
    "def stripEmoji(text):\n",
    "    emoji = re.compile('[\\U00010000-\\U0010ffff]', flags=re.UNICODE)\n",
    "    return emoji.sub(r'', text)\n",
    "\n",
    "def splitIntoStem(text):\n",
    "    text = stemWord(text)\n",
    "    text = removeUsernames(text)\n",
    "    text = removeHashtags(text)\n",
    "    text = removePunctuation(text)\n",
    "    text = singleCharacterRemove(text)\n",
    "    text = stripEmoji(text)\n",
    "    return text\n",
    "\n",
    "\n",
    "turkcell_data['Tweets'] = turkcell_data['Tweets'].apply(splitIntoStem)"
   ]
  },
  {
   "cell_type": "code",
   "execution_count": 21,
   "metadata": {},
   "outputs": [],
   "source": [
    "# Remove pic.twitter\n",
    "def picTwitter(text):\n",
    "    pic_pat = r'pic.[^ ]+'\n",
    "    text = re.sub(pic_pat, '', text)\n",
    "    return text\n",
    "    \n",
    "turkcell_data['Tweets'] = turkcell_data['Tweets'].apply(picTwitter)\n",
    "\n",
    "# Remove pic.twitter2\n",
    "def picTwitter2(text):\n",
    "    pic_pat2 = r'com.[^ ]+'\n",
    "    text = re.sub(pic_pat2, '', text)\n",
    "    return text\n",
    "\n",
    "turkcell_data['Tweets'] = turkcell_data['Tweets'].apply(picTwitter2)"
   ]
  },
  {
   "cell_type": "code",
   "execution_count": 22,
   "metadata": {},
   "outputs": [
    {
     "data": {
      "text/plain": [
       "\"# Remove turkcell\\ndef operator(text):\\n    t = r'turkcell'\\n    v = r'vodafone'\\n    tt = r'turktelekom'\\n    so = r'superonline'\\n    sy = r'superyardim'\\n    text = re.sub(t, '', text)\\n    text = re.sub(v, '', text)\\n    text = re.sub(tt, '', text)\\n    return text\\n\\n\\nturkcell_data['Tweets'] = turkcell_data['Tweets'].apply(operator)\""
      ]
     },
     "execution_count": 22,
     "metadata": {},
     "output_type": "execute_result"
    }
   ],
   "source": [
    "'''# Remove turkcell\n",
    "def operator(text):\n",
    "    t = r'turkcell'\n",
    "    v = r'vodafone'\n",
    "    tt = r'turktelekom'\n",
    "    so = r'superonline'\n",
    "    sy = r'superyardim'\n",
    "    text = re.sub(t, '', text)\n",
    "    text = re.sub(v, '', text)\n",
    "    text = re.sub(tt, '', text)\n",
    "    return text\n",
    "\n",
    "\n",
    "turkcell_data['Tweets'] = turkcell_data['Tweets'].apply(operator)'''"
   ]
  },
  {
   "cell_type": "code",
   "execution_count": 23,
   "metadata": {},
   "outputs": [
    {
     "data": {
      "text/plain": [
       "0                                                                                                                                                                                                                             turkcell in sahibi kim  atarı kime acaba bu arkadaşın  \n",
       "1                                                                                                                                        benim var dışardan gelene 50 lira yaptığınız tarife 17 yıllık müşteriniz olan bana 105 lira  değiştireceğim az kaldo   hangisi daha uygunsa \n",
       "2                                                                                                                                                                                                                                       acaba turkcell bana da bi kalp gönderir mi   \n",
       "3                    turkcell ceo dediki  cezanın ayarını cezayı yazan arkadaşların kendi vicdanlarına bırakıyorum  bizdeki saat 15 dakikalık yoğunluk  kesinti değil  yoğunluk  karşısında ise 27 saat kesinti  herkes elini vicdanına koysun  cezanın bedelini de vicdanına sorsun \n",
       "4                                                                                 15 günlük  meceramda anladımkı ucuz etin yahnisi olmazmış keşke  bizi hakkıyla öpen  den ayrılmasaydım nasipse yarın saat 14 26 suları itibari ile bıraktığımız yerden devam edicez  iyiki varsın  \n",
       "                                                                                                                                             ...                                                                                                                                     \n",
       "10695                                                                                                                                                                                        turkcell kadar leşşi bi firma görmedim amk şu korona geçsin ayağımı atarsam adam değilim\n",
       "10696                                                                                                                                                                                                  turkcel yökün hediye ettiği gb vermemek için direniyor  bu ne rezilliktir     \n",
       "10697                                                                                                                                                 25 yıllık turkcell kesintisiniz faturalı abonesiyim  coranadan dolayı ilk defa faturamı ödeyemedim   hattımı kesmişler   ayıppp\n",
       "10698    başka operatörden turkcell geçirdim hattımı ama turkcell interneti çok kötü tekrar dönmeyi sorguluyorum kendi kendime aramalarımı wi fi destekli yapıyorum çekim gücü konusunda yardımınız olacak mıdır  eski turkcelli olarak hayal kırıklıgına uğramadım desem yalan olur \n",
       "10699                                                 turkcell kalitesi bu mu  30dk müşteri yetkilisine dert anlattım asssla çözüm sunmadı  yapacak bişey yok  kalma sözü vermişsiniz diyip durdu  utanmazliğin böylesi\\n bizden hizmet almayın ama bize  para ödeyin diyosunuz      \n",
       "Name: Tweets, Length: 10700, dtype: object"
      ]
     },
     "execution_count": 23,
     "metadata": {},
     "output_type": "execute_result"
    }
   ],
   "source": [
    "turkcell_data['Tweets']"
   ]
  },
  {
   "cell_type": "code",
   "execution_count": 24,
   "metadata": {},
   "outputs": [
    {
     "data": {
      "text/html": [
       "<div>\n",
       "<style scoped>\n",
       "    .dataframe tbody tr th:only-of-type {\n",
       "        vertical-align: middle;\n",
       "    }\n",
       "\n",
       "    .dataframe tbody tr th {\n",
       "        vertical-align: top;\n",
       "    }\n",
       "\n",
       "    .dataframe thead th {\n",
       "        text-align: right;\n",
       "    }\n",
       "</style>\n",
       "<table border=\"1\" class=\"dataframe\">\n",
       "  <thead>\n",
       "    <tr style=\"text-align: right;\">\n",
       "      <th></th>\n",
       "      <th>Tweets</th>\n",
       "      <th>Sentiment</th>\n",
       "      <th>TextSize</th>\n",
       "    </tr>\n",
       "  </thead>\n",
       "  <tbody>\n",
       "    <tr>\n",
       "      <th>0</th>\n",
       "      <td>turkcell in sahibi kim  atarı kime acaba bu arkadaşın</td>\n",
       "      <td>Positive</td>\n",
       "      <td>55</td>\n",
       "    </tr>\n",
       "    <tr>\n",
       "      <th>1</th>\n",
       "      <td>benim var dışardan gelene 50 lira yaptığınız tarife 17 yıllık müşteriniz olan bana 105 lira  değiştireceğim az kaldo   hangisi daha uygunsa</td>\n",
       "      <td>Positive</td>\n",
       "      <td>158</td>\n",
       "    </tr>\n",
       "    <tr>\n",
       "      <th>2</th>\n",
       "      <td>acaba turkcell bana da bi kalp gönderir mi</td>\n",
       "      <td>Positive</td>\n",
       "      <td>62</td>\n",
       "    </tr>\n",
       "    <tr>\n",
       "      <th>3</th>\n",
       "      <td>turkcell ceo dediki  cezanın ayarını cezayı yazan arkadaşların kendi vicdanlarına bırakıyorum  bizdeki saat 15 dakikalık yoğunluk  kesinti değil  yoğunluk  karşısında ise 27 saat kesinti  herkes elini vicdanına koysun  cezanın bedelini de vicdanına sorsun</td>\n",
       "      <td>Positive</td>\n",
       "      <td>258</td>\n",
       "    </tr>\n",
       "    <tr>\n",
       "      <th>4</th>\n",
       "      <td>15 günlük  meceramda anladımkı ucuz etin yahnisi olmazmış keşke  bizi hakkıyla öpen  den ayrılmasaydım nasipse yarın saat 14 26 suları itibari ile bıraktığımız yerden devam edicez  iyiki varsın</td>\n",
       "      <td>Positive</td>\n",
       "      <td>225</td>\n",
       "    </tr>\n",
       "  </tbody>\n",
       "</table>\n",
       "</div>"
      ],
      "text/plain": [
       "                                                                                                                                                                                                                                                             Tweets  \\\n",
       "0                                                                                                                                                                                                           turkcell in sahibi kim  atarı kime acaba bu arkadaşın     \n",
       "1                                                                                                                      benim var dışardan gelene 50 lira yaptığınız tarife 17 yıllık müşteriniz olan bana 105 lira  değiştireceğim az kaldo   hangisi daha uygunsa    \n",
       "2                                                                                                                                                                                                                     acaba turkcell bana da bi kalp gönderir mi      \n",
       "3  turkcell ceo dediki  cezanın ayarını cezayı yazan arkadaşların kendi vicdanlarına bırakıyorum  bizdeki saat 15 dakikalık yoğunluk  kesinti değil  yoğunluk  karşısında ise 27 saat kesinti  herkes elini vicdanına koysun  cezanın bedelini de vicdanına sorsun    \n",
       "4                                                               15 günlük  meceramda anladımkı ucuz etin yahnisi olmazmış keşke  bizi hakkıyla öpen  den ayrılmasaydım nasipse yarın saat 14 26 suları itibari ile bıraktığımız yerden devam edicez  iyiki varsın     \n",
       "\n",
       "  Sentiment  TextSize  \n",
       "0  Positive        55  \n",
       "1  Positive       158  \n",
       "2  Positive        62  \n",
       "3  Positive       258  \n",
       "4  Positive       225  "
      ]
     },
     "execution_count": 24,
     "metadata": {},
     "output_type": "execute_result"
    }
   ],
   "source": [
    "turkcell_data.head()"
   ]
  },
  {
   "cell_type": "code",
   "execution_count": 25,
   "metadata": {},
   "outputs": [
    {
     "data": {
      "text/html": [
       "<div>\n",
       "<style scoped>\n",
       "    .dataframe tbody tr th:only-of-type {\n",
       "        vertical-align: middle;\n",
       "    }\n",
       "\n",
       "    .dataframe tbody tr th {\n",
       "        vertical-align: top;\n",
       "    }\n",
       "\n",
       "    .dataframe thead th {\n",
       "        text-align: right;\n",
       "    }\n",
       "</style>\n",
       "<table border=\"1\" class=\"dataframe\">\n",
       "  <thead>\n",
       "    <tr style=\"text-align: right;\">\n",
       "      <th></th>\n",
       "      <th>Tweets</th>\n",
       "      <th>Sentiment</th>\n",
       "      <th>TextSize</th>\n",
       "      <th>TextSizeBeforeRemoveStopWords</th>\n",
       "    </tr>\n",
       "  </thead>\n",
       "  <tbody>\n",
       "    <tr>\n",
       "      <th>0</th>\n",
       "      <td>turkcell in sahibi kim  atarı kime acaba bu arkadaşın</td>\n",
       "      <td>Positive</td>\n",
       "      <td>55</td>\n",
       "      <td>55</td>\n",
       "    </tr>\n",
       "    <tr>\n",
       "      <th>1</th>\n",
       "      <td>benim var dışardan gelene 50 lira yaptığınız tarife 17 yıllık müşteriniz olan bana 105 lira  değiştireceğim az kaldo   hangisi daha uygunsa</td>\n",
       "      <td>Positive</td>\n",
       "      <td>158</td>\n",
       "      <td>140</td>\n",
       "    </tr>\n",
       "    <tr>\n",
       "      <th>2</th>\n",
       "      <td>acaba turkcell bana da bi kalp gönderir mi</td>\n",
       "      <td>Positive</td>\n",
       "      <td>62</td>\n",
       "      <td>47</td>\n",
       "    </tr>\n",
       "    <tr>\n",
       "      <th>3</th>\n",
       "      <td>turkcell ceo dediki  cezanın ayarını cezayı yazan arkadaşların kendi vicdanlarına bırakıyorum  bizdeki saat 15 dakikalık yoğunluk  kesinti değil  yoğunluk  karşısında ise 27 saat kesinti  herkes elini vicdanına koysun  cezanın bedelini de vicdanına sorsun</td>\n",
       "      <td>Positive</td>\n",
       "      <td>258</td>\n",
       "      <td>256</td>\n",
       "    </tr>\n",
       "    <tr>\n",
       "      <th>4</th>\n",
       "      <td>15 günlük  meceramda anladımkı ucuz etin yahnisi olmazmış keşke  bizi hakkıyla öpen  den ayrılmasaydım nasipse yarın saat 14 26 suları itibari ile bıraktığımız yerden devam edicez  iyiki varsın</td>\n",
       "      <td>Positive</td>\n",
       "      <td>225</td>\n",
       "      <td>195</td>\n",
       "    </tr>\n",
       "  </tbody>\n",
       "</table>\n",
       "</div>"
      ],
      "text/plain": [
       "                                                                                                                                                                                                                                                             Tweets  \\\n",
       "0                                                                                                                                                                                                           turkcell in sahibi kim  atarı kime acaba bu arkadaşın     \n",
       "1                                                                                                                      benim var dışardan gelene 50 lira yaptığınız tarife 17 yıllık müşteriniz olan bana 105 lira  değiştireceğim az kaldo   hangisi daha uygunsa    \n",
       "2                                                                                                                                                                                                                     acaba turkcell bana da bi kalp gönderir mi      \n",
       "3  turkcell ceo dediki  cezanın ayarını cezayı yazan arkadaşların kendi vicdanlarına bırakıyorum  bizdeki saat 15 dakikalık yoğunluk  kesinti değil  yoğunluk  karşısında ise 27 saat kesinti  herkes elini vicdanına koysun  cezanın bedelini de vicdanına sorsun    \n",
       "4                                                               15 günlük  meceramda anladımkı ucuz etin yahnisi olmazmış keşke  bizi hakkıyla öpen  den ayrılmasaydım nasipse yarın saat 14 26 suları itibari ile bıraktığımız yerden devam edicez  iyiki varsın     \n",
       "\n",
       "  Sentiment  TextSize  TextSizeBeforeRemoveStopWords  \n",
       "0  Positive        55                             55  \n",
       "1  Positive       158                            140  \n",
       "2  Positive        62                             47  \n",
       "3  Positive       258                            256  \n",
       "4  Positive       225                            195  "
      ]
     },
     "execution_count": 25,
     "metadata": {},
     "output_type": "execute_result"
    }
   ],
   "source": [
    "turkcell_data['TextSizeBeforeRemoveStopWords'] = [len(t) for t in turkcell_data.Tweets]\n",
    "turkcell_data.head()"
   ]
  },
  {
   "cell_type": "markdown",
   "metadata": {},
   "source": [
    "### Removing StopWords"
   ]
  },
  {
   "cell_type": "code",
   "execution_count": 26,
   "metadata": {},
   "outputs": [],
   "source": [
    "# Set Stopwords to Turkish\n",
    "stop = set(stopword_list)\n",
    "\n",
    "def remove_stopwords(text, is_lower_case = True):\n",
    "    tokens = tokenizer.tokenize(text)\n",
    "    tokens = [token.strip() for token in tokens]\n",
    "    if is_lower_case:\n",
    "        filtered_tokens = [token for token in tokens if token not in stopword_list]\n",
    "    else:\n",
    "        filtered_tokens = [token for token in tokens if token.lower() not in stopword_list]\n",
    "    filtered_text = ' '.join(filtered_tokens)    \n",
    "    return filtered_text\n",
    "\n",
    "turkcell_data['Tweets'] = turkcell_data['Tweets'].apply(remove_stopwords)"
   ]
  },
  {
   "cell_type": "code",
   "execution_count": 27,
   "metadata": {},
   "outputs": [
    {
     "data": {
      "text/html": [
       "<div>\n",
       "<style scoped>\n",
       "    .dataframe tbody tr th:only-of-type {\n",
       "        vertical-align: middle;\n",
       "    }\n",
       "\n",
       "    .dataframe tbody tr th {\n",
       "        vertical-align: top;\n",
       "    }\n",
       "\n",
       "    .dataframe thead th {\n",
       "        text-align: right;\n",
       "    }\n",
       "</style>\n",
       "<table border=\"1\" class=\"dataframe\">\n",
       "  <thead>\n",
       "    <tr style=\"text-align: right;\">\n",
       "      <th></th>\n",
       "      <th>Tweets</th>\n",
       "      <th>Sentiment</th>\n",
       "      <th>TextSize</th>\n",
       "      <th>TextSizeBeforeRemoveStopWords</th>\n",
       "      <th>TextSizeAfterRemoveStopWords</th>\n",
       "    </tr>\n",
       "  </thead>\n",
       "  <tbody>\n",
       "    <tr>\n",
       "      <th>0</th>\n",
       "      <td>turkcell in sahibi atarı arkadaşın</td>\n",
       "      <td>Positive</td>\n",
       "      <td>55</td>\n",
       "      <td>55</td>\n",
       "      <td>34</td>\n",
       "    </tr>\n",
       "    <tr>\n",
       "      <th>1</th>\n",
       "      <td>dışardan gelene 50 lira yaptığınız tarife 17 yıllık müşteriniz 105 lira değiştireceğim kaldo uygunsa</td>\n",
       "      <td>Positive</td>\n",
       "      <td>158</td>\n",
       "      <td>140</td>\n",
       "      <td>100</td>\n",
       "    </tr>\n",
       "    <tr>\n",
       "      <th>2</th>\n",
       "      <td>turkcell bi kalp gönderir</td>\n",
       "      <td>Positive</td>\n",
       "      <td>62</td>\n",
       "      <td>47</td>\n",
       "      <td>25</td>\n",
       "    </tr>\n",
       "    <tr>\n",
       "      <th>3</th>\n",
       "      <td>turkcell ceo dediki cezanın ayarını cezayı yazan arkadaşların vicdanlarına bırakıyorum bizdeki saat 15 dakikalık yoğunluk kesinti değil yoğunluk karşısında 27 saat kesinti elini vicdanına koysun cezanın bedelini vicdanına sorsun</td>\n",
       "      <td>Positive</td>\n",
       "      <td>258</td>\n",
       "      <td>256</td>\n",
       "      <td>228</td>\n",
       "    </tr>\n",
       "    <tr>\n",
       "      <th>4</th>\n",
       "      <td>15 günlük meceramda anladımkı ucuz etin yahnisi olmazmış keşke hakkıyla öpen den ayrılmasaydım nasipse yarın saat 14 26 suları itibari bıraktığımız yerden devam edicez iyiki varsın</td>\n",
       "      <td>Positive</td>\n",
       "      <td>225</td>\n",
       "      <td>195</td>\n",
       "      <td>180</td>\n",
       "    </tr>\n",
       "  </tbody>\n",
       "</table>\n",
       "</div>"
      ],
      "text/plain": [
       "                                                                                                                                                                                                                                 Tweets  \\\n",
       "0                                                                                                                                                                                                    turkcell in sahibi atarı arkadaşın   \n",
       "1                                                                                                                                  dışardan gelene 50 lira yaptığınız tarife 17 yıllık müşteriniz 105 lira değiştireceğim kaldo uygunsa   \n",
       "2                                                                                                                                                                                                             turkcell bi kalp gönderir   \n",
       "3  turkcell ceo dediki cezanın ayarını cezayı yazan arkadaşların vicdanlarına bırakıyorum bizdeki saat 15 dakikalık yoğunluk kesinti değil yoğunluk karşısında 27 saat kesinti elini vicdanına koysun cezanın bedelini vicdanına sorsun   \n",
       "4                                                  15 günlük meceramda anladımkı ucuz etin yahnisi olmazmış keşke hakkıyla öpen den ayrılmasaydım nasipse yarın saat 14 26 suları itibari bıraktığımız yerden devam edicez iyiki varsın   \n",
       "\n",
       "  Sentiment  TextSize  TextSizeBeforeRemoveStopWords  \\\n",
       "0  Positive        55                             55   \n",
       "1  Positive       158                            140   \n",
       "2  Positive        62                             47   \n",
       "3  Positive       258                            256   \n",
       "4  Positive       225                            195   \n",
       "\n",
       "   TextSizeAfterRemoveStopWords  \n",
       "0                            34  \n",
       "1                           100  \n",
       "2                            25  \n",
       "3                           228  \n",
       "4                           180  "
      ]
     },
     "execution_count": 27,
     "metadata": {},
     "output_type": "execute_result"
    }
   ],
   "source": [
    "turkcell_data['TextSizeAfterRemoveStopWords'] = [len(t) for t in turkcell_data.Tweets]\n",
    "turkcell_data.head()"
   ]
  },
  {
   "cell_type": "markdown",
   "metadata": {},
   "source": [
    "## <a class=\"anchor\" id=\"4.3.\">4.3. Text Stemming</a>"
   ]
  },
  {
   "cell_type": "code",
   "execution_count": 28,
   "metadata": {},
   "outputs": [],
   "source": [
    "turkStem = TurkishStemmer()\n",
    "\n",
    "# Stemming\n",
    "def simple_stemmer(text):\n",
    "    ss = TurkishStemmer()\n",
    "    text = ' '.join([ss.stemWord(word) for word in text.split()])\n",
    "    return text\n",
    "\n",
    "turkcell_data['Tweets'] = turkcell_data['Tweets'].apply(simple_stemmer)"
   ]
  },
  {
   "cell_type": "code",
   "execution_count": 29,
   "metadata": {},
   "outputs": [
    {
     "data": {
      "text/html": [
       "<div>\n",
       "<style scoped>\n",
       "    .dataframe tbody tr th:only-of-type {\n",
       "        vertical-align: middle;\n",
       "    }\n",
       "\n",
       "    .dataframe tbody tr th {\n",
       "        vertical-align: top;\n",
       "    }\n",
       "\n",
       "    .dataframe thead th {\n",
       "        text-align: right;\n",
       "    }\n",
       "</style>\n",
       "<table border=\"1\" class=\"dataframe\">\n",
       "  <thead>\n",
       "    <tr style=\"text-align: right;\">\n",
       "      <th></th>\n",
       "      <th>Tweets</th>\n",
       "      <th>Sentiment</th>\n",
       "      <th>TextSize</th>\n",
       "      <th>TextSizeBeforeRemoveStopWords</th>\n",
       "      <th>TextSizeAfterRemoveStopWords</th>\n",
       "      <th>TextSizeStemming</th>\n",
       "    </tr>\n",
       "  </thead>\n",
       "  <tbody>\n",
       "    <tr>\n",
       "      <th>0</th>\n",
       "      <td>turkcell in sahip atar arkadaş</td>\n",
       "      <td>Positive</td>\n",
       "      <td>55</td>\n",
       "      <td>55</td>\n",
       "      <td>34</td>\n",
       "      <td>30</td>\n",
       "    </tr>\n",
       "    <tr>\n",
       "      <th>1</th>\n",
       "      <td>dışar gele 50 lira yaptık tarif 17 yıllık müşter 105 lira değiştirecek kaldo uygu</td>\n",
       "      <td>Positive</td>\n",
       "      <td>158</td>\n",
       "      <td>140</td>\n",
       "      <td>100</td>\n",
       "      <td>81</td>\n",
       "    </tr>\n",
       "    <tr>\n",
       "      <th>2</th>\n",
       "      <td>turkcell bi kalp gönderir</td>\n",
       "      <td>Positive</td>\n",
       "      <td>62</td>\n",
       "      <td>47</td>\n",
       "      <td>25</td>\n",
       "      <td>25</td>\n",
       "    </tr>\n",
       "    <tr>\n",
       "      <th>3</th>\n",
       "      <td>turkcell ceo dedik ceza ayar ceza yaza arkadaş vicdan bırakıyor biz saat 15 dakikalık yoğunluk kes değil yoğunluk karşı 27 saat kes el vicdan koy ceza bedel vicdan sor</td>\n",
       "      <td>Positive</td>\n",
       "      <td>258</td>\n",
       "      <td>256</td>\n",
       "      <td>228</td>\n",
       "      <td>167</td>\n",
       "    </tr>\n",
       "    <tr>\n",
       "      <th>4</th>\n",
       "      <td>15 günlük mecera anladımkı uç et yahnis olmaz keşke hakkı öpe den ayrılmas nasip yar saat 14 26 su itibar bıraktık yer deva edicez iyik var</td>\n",
       "      <td>Positive</td>\n",
       "      <td>225</td>\n",
       "      <td>195</td>\n",
       "      <td>180</td>\n",
       "      <td>139</td>\n",
       "    </tr>\n",
       "  </tbody>\n",
       "</table>\n",
       "</div>"
      ],
      "text/plain": [
       "                                                                                                                                                                    Tweets  \\\n",
       "0                                                                                                                                           turkcell in sahip atar arkadaş   \n",
       "1                                                                                        dışar gele 50 lira yaptık tarif 17 yıllık müşter 105 lira değiştirecek kaldo uygu   \n",
       "2                                                                                                                                                turkcell bi kalp gönderir   \n",
       "3  turkcell ceo dedik ceza ayar ceza yaza arkadaş vicdan bırakıyor biz saat 15 dakikalık yoğunluk kes değil yoğunluk karşı 27 saat kes el vicdan koy ceza bedel vicdan sor   \n",
       "4                              15 günlük mecera anladımkı uç et yahnis olmaz keşke hakkı öpe den ayrılmas nasip yar saat 14 26 su itibar bıraktık yer deva edicez iyik var   \n",
       "\n",
       "  Sentiment  TextSize  TextSizeBeforeRemoveStopWords  \\\n",
       "0  Positive        55                             55   \n",
       "1  Positive       158                            140   \n",
       "2  Positive        62                             47   \n",
       "3  Positive       258                            256   \n",
       "4  Positive       225                            195   \n",
       "\n",
       "   TextSizeAfterRemoveStopWords  TextSizeStemming  \n",
       "0                            34                30  \n",
       "1                           100                81  \n",
       "2                            25                25  \n",
       "3                           228               167  \n",
       "4                           180               139  "
      ]
     },
     "execution_count": 29,
     "metadata": {},
     "output_type": "execute_result"
    }
   ],
   "source": [
    "turkcell_data['TextSizeStemming'] = [len(t) for t in turkcell_data.Tweets]\n",
    "turkcell_data.head()"
   ]
  },
  {
   "cell_type": "markdown",
   "metadata": {},
   "source": [
    "                                                            turkcell_data[0] Text Size\n",
    "\n",
    "| # | Original | Preprocess | RemoveStopWords | Stemming |\n",
    "|------|------|------|------|\n",
    "|TextSize| 55 | 55 | 34 | 30 |"
   ]
  },
  {
   "cell_type": "markdown",
   "metadata": {},
   "source": [
    "# <a class=\"anchor\" id=\"5.\">5. Feature Extraction</a>"
   ]
  },
  {
   "cell_type": "markdown",
   "metadata": {},
   "source": [
    "### Labeling the sentiment text"
   ]
  },
  {
   "cell_type": "code",
   "execution_count": 30,
   "metadata": {},
   "outputs": [
    {
     "data": {
      "text/html": [
       "<div>\n",
       "<style scoped>\n",
       "    .dataframe tbody tr th:only-of-type {\n",
       "        vertical-align: middle;\n",
       "    }\n",
       "\n",
       "    .dataframe tbody tr th {\n",
       "        vertical-align: top;\n",
       "    }\n",
       "\n",
       "    .dataframe thead th {\n",
       "        text-align: right;\n",
       "    }\n",
       "</style>\n",
       "<table border=\"1\" class=\"dataframe\">\n",
       "  <thead>\n",
       "    <tr style=\"text-align: right;\">\n",
       "      <th></th>\n",
       "      <th>Tweets</th>\n",
       "      <th>Sentiment</th>\n",
       "      <th>TextSize</th>\n",
       "      <th>TextSizeBeforeRemoveStopWords</th>\n",
       "      <th>TextSizeAfterRemoveStopWords</th>\n",
       "      <th>TextSizeStemming</th>\n",
       "    </tr>\n",
       "  </thead>\n",
       "  <tbody>\n",
       "    <tr>\n",
       "      <th>0</th>\n",
       "      <td>turkcell in sahip atar arkadaş</td>\n",
       "      <td>1</td>\n",
       "      <td>55</td>\n",
       "      <td>55</td>\n",
       "      <td>34</td>\n",
       "      <td>30</td>\n",
       "    </tr>\n",
       "    <tr>\n",
       "      <th>1</th>\n",
       "      <td>dışar gele 50 lira yaptık tarif 17 yıllık müşter 105 lira değiştirecek kaldo uygu</td>\n",
       "      <td>1</td>\n",
       "      <td>158</td>\n",
       "      <td>140</td>\n",
       "      <td>100</td>\n",
       "      <td>81</td>\n",
       "    </tr>\n",
       "    <tr>\n",
       "      <th>2</th>\n",
       "      <td>turkcell bi kalp gönderir</td>\n",
       "      <td>1</td>\n",
       "      <td>62</td>\n",
       "      <td>47</td>\n",
       "      <td>25</td>\n",
       "      <td>25</td>\n",
       "    </tr>\n",
       "    <tr>\n",
       "      <th>3</th>\n",
       "      <td>turkcell ceo dedik ceza ayar ceza yaza arkadaş vicdan bırakıyor biz saat 15 dakikalık yoğunluk kes değil yoğunluk karşı 27 saat kes el vicdan koy ceza bedel vicdan sor</td>\n",
       "      <td>1</td>\n",
       "      <td>258</td>\n",
       "      <td>256</td>\n",
       "      <td>228</td>\n",
       "      <td>167</td>\n",
       "    </tr>\n",
       "    <tr>\n",
       "      <th>4</th>\n",
       "      <td>15 günlük mecera anladımkı uç et yahnis olmaz keşke hakkı öpe den ayrılmas nasip yar saat 14 26 su itibar bıraktık yer deva edicez iyik var</td>\n",
       "      <td>1</td>\n",
       "      <td>225</td>\n",
       "      <td>195</td>\n",
       "      <td>180</td>\n",
       "      <td>139</td>\n",
       "    </tr>\n",
       "  </tbody>\n",
       "</table>\n",
       "</div>"
      ],
      "text/plain": [
       "                                                                                                                                                                    Tweets  \\\n",
       "0                                                                                                                                           turkcell in sahip atar arkadaş   \n",
       "1                                                                                        dışar gele 50 lira yaptık tarif 17 yıllık müşter 105 lira değiştirecek kaldo uygu   \n",
       "2                                                                                                                                                turkcell bi kalp gönderir   \n",
       "3  turkcell ceo dedik ceza ayar ceza yaza arkadaş vicdan bırakıyor biz saat 15 dakikalık yoğunluk kes değil yoğunluk karşı 27 saat kes el vicdan koy ceza bedel vicdan sor   \n",
       "4                              15 günlük mecera anladımkı uç et yahnis olmaz keşke hakkı öpe den ayrılmas nasip yar saat 14 26 su itibar bıraktık yer deva edicez iyik var   \n",
       "\n",
       "   Sentiment  TextSize  TextSizeBeforeRemoveStopWords  \\\n",
       "0          1        55                             55   \n",
       "1          1       158                            140   \n",
       "2          1        62                             47   \n",
       "3          1       258                            256   \n",
       "4          1       225                            195   \n",
       "\n",
       "   TextSizeAfterRemoveStopWords  TextSizeStemming  \n",
       "0                            34                30  \n",
       "1                           100                81  \n",
       "2                            25                25  \n",
       "3                           228               167  \n",
       "4                           180               139  "
      ]
     },
     "execution_count": 30,
     "metadata": {},
     "output_type": "execute_result"
    }
   ],
   "source": [
    "turkcell_data.Sentiment.replace(['Negative', 'Positive'], [0, 1], inplace = True)\n",
    "turkcell_data.head()"
   ]
  },
  {
   "cell_type": "markdown",
   "metadata": {},
   "source": [
    "## <a class=\"anchor\" id=\"5.1.\">5.1. Split Dataset Intro Train and Test</a>"
   ]
  },
  {
   "cell_type": "code",
   "execution_count": 31,
   "metadata": {},
   "outputs": [],
   "source": [
    "sent = turkcell_data['Sentiment']\n",
    "tw = turkcell_data['Tweets']\n",
    "\n",
    "# Split the data / Ratio is 80:20\n",
    "X_train, X_test, y_train, y_test = train_test_split(tw, sent, test_size = 0.20, random_state= 1)\n",
    "\n",
    "\n",
    "# X_train is the tweets of training data, \n",
    "# X_test is the testing tweets which we have to predict \n",
    "# y_train is the sentiments of tweets in the traing data\n",
    "# y_test is the sentiments of the tweets which we will use to measure the accuracy of the model"
   ]
  },
  {
   "cell_type": "markdown",
   "metadata": {},
   "source": [
    "## <a class=\"anchor\" id=\"5.2.\">5.2. Bag of Words</a>"
   ]
  },
  {
   "cell_type": "code",
   "execution_count": 32,
   "metadata": {},
   "outputs": [
    {
     "name": "stdout",
     "output_type": "stream",
     "text": [
      "BoW_CV_Train: (8560, 170489)\n",
      "BoW_CV_Test: (2140, 170489)\n"
     ]
    }
   ],
   "source": [
    "# CountVectorizer for Bag of Words\n",
    "cv = CountVectorizer(min_df = 0, max_df = 1, binary = False, ngram_range = (1, 3))\n",
    "\n",
    "# Transformed train tweets\n",
    "cv_train_tweets = cv.fit_transform(X_train)\n",
    "\n",
    "# Transformed test tweets\n",
    "cv_test_tweets = cv.transform(X_test)\n",
    "\n",
    "print('BoW_CV_Train:',cv_train_tweets.shape)\n",
    "print('BoW_CV_Test:',cv_test_tweets.shape)"
   ]
  },
  {
   "cell_type": "code",
   "execution_count": 33,
   "metadata": {},
   "outputs": [
    {
     "name": "stdout",
     "output_type": "stream",
     "text": [
      "  (0, 128523)\t1\n",
      "  (0, 110028)\t1\n",
      "  (0, 48828)\t1\n",
      "  (0, 80389)\t1\n",
      "  (0, 81674)\t1\n",
      "  (0, 15311)\t1\n",
      "  (0, 128524)\t1\n",
      "  (0, 123281)\t1\n",
      "  (0, 110029)\t1\n",
      "  (0, 5945)\t1\n",
      "  (0, 78212)\t1\n",
      "  (0, 48829)\t1\n",
      "  (0, 80390)\t1\n",
      "  (0, 81675)\t1\n",
      "  (0, 98761)\t1\n"
     ]
    }
   ],
   "source": [
    "s = cv_train_tweets[1]\n",
    "print(s)"
   ]
  },
  {
   "cell_type": "code",
   "execution_count": 34,
   "metadata": {},
   "outputs": [
    {
     "name": "stdout",
     "output_type": "stream",
     "text": [
      "  (0, 56274)\t1\n",
      "  (0, 70185)\t1\n",
      "  (0, 126527)\t1\n",
      "  (0, 126528)\t1\n"
     ]
    }
   ],
   "source": [
    "ss = cv_test_tweets[1]\n",
    "print(ss)"
   ]
  },
  {
   "cell_type": "markdown",
   "metadata": {},
   "source": [
    "## <a class=\"anchor\" id=\"5.3.\">5.3. Term FrequencyxInverse Document Frequency / TFxIDF</a>"
   ]
  },
  {
   "cell_type": "code",
   "execution_count": 35,
   "metadata": {},
   "outputs": [
    {
     "name": "stdout",
     "output_type": "stream",
     "text": [
      "Tfidf_Train: (8560, 170489)\n",
      "Tfidf_Test: (2140, 170489)\n"
     ]
    }
   ],
   "source": [
    "# TfidfVectorizer\n",
    "tv = TfidfVectorizer(min_df = 0, max_df = 1, use_idf = True, ngram_range = (1, 3))\n",
    "\n",
    "# Transformed train tweets\n",
    "tv_train_tweets = tv.fit_transform(X_train)\n",
    "\n",
    "# Transformed test tweets\n",
    "tv_test_tweets = tv.transform(X_test)\n",
    "\n",
    "print('Tfidf_Train:',tv_train_tweets.shape)\n",
    "print('Tfidf_Test:',tv_test_tweets.shape)"
   ]
  },
  {
   "cell_type": "code",
   "execution_count": 36,
   "metadata": {},
   "outputs": [
    {
     "name": "stdout",
     "output_type": "stream",
     "text": [
      "  (0, 98761)\t0.2581988897471611\n",
      "  (0, 81675)\t0.2581988897471611\n",
      "  (0, 80390)\t0.2581988897471611\n",
      "  (0, 48829)\t0.2581988897471611\n",
      "  (0, 78212)\t0.2581988897471611\n",
      "  (0, 5945)\t0.2581988897471611\n",
      "  (0, 110029)\t0.2581988897471611\n",
      "  (0, 123281)\t0.2581988897471611\n",
      "  (0, 128524)\t0.2581988897471611\n",
      "  (0, 15311)\t0.2581988897471611\n",
      "  (0, 81674)\t0.2581988897471611\n",
      "  (0, 80389)\t0.2581988897471611\n",
      "  (0, 48828)\t0.2581988897471611\n",
      "  (0, 110028)\t0.2581988897471611\n",
      "  (0, 128523)\t0.2581988897471611\n"
     ]
    }
   ],
   "source": [
    "s = tv_train_tweets[1]\n",
    "print(s)"
   ]
  },
  {
   "cell_type": "code",
   "execution_count": 37,
   "metadata": {},
   "outputs": [
    {
     "name": "stdout",
     "output_type": "stream",
     "text": [
      "  (0, 126528)\t0.5\n",
      "  (0, 126527)\t0.5\n",
      "  (0, 70185)\t0.5\n",
      "  (0, 56274)\t0.5\n"
     ]
    }
   ],
   "source": [
    "ss = tv_test_tweets[1]\n",
    "print(ss)"
   ]
  },
  {
   "cell_type": "markdown",
   "metadata": {},
   "source": [
    "# <a class=\"anchor\" id=\"6.\">6. Modelling the Dataset</a>"
   ]
  },
  {
   "cell_type": "markdown",
   "metadata": {},
   "source": [
    "## <a class=\"anchor\" id=\"6.1.\">6.1. Logistic Regression</a>"
   ]
  },
  {
   "cell_type": "code",
   "execution_count": 38,
   "metadata": {},
   "outputs": [
    {
     "name": "stdout",
     "output_type": "stream",
     "text": [
      "LogisticRegression(C=1.1, class_weight=None, dual=False, fit_intercept=True,\n",
      "                   intercept_scaling=1, l1_ratio=None, max_iter=500,\n",
      "                   multi_class='auto', n_jobs=None, penalty='l2',\n",
      "                   random_state=42, solver='lbfgs', tol=0.0001, verbose=0,\n",
      "                   warm_start=False)\n",
      "LogisticRegression(C=1.1, class_weight=None, dual=False, fit_intercept=True,\n",
      "                   intercept_scaling=1, l1_ratio=None, max_iter=500,\n",
      "                   multi_class='auto', n_jobs=None, penalty='l2',\n",
      "                   random_state=42, solver='lbfgs', tol=0.0001, verbose=0,\n",
      "                   warm_start=False)\n"
     ]
    }
   ],
   "source": [
    "# Training the Model\n",
    "lr = LogisticRegression(penalty = 'l2', max_iter = 500, C = 1.1, random_state = 42)\n",
    "\n",
    "# Fitting the model for Bag of Words\n",
    "lr_bow = lr.fit(cv_train_tweets, y_train)\n",
    "print(lr_bow)\n",
    "\n",
    "# Fitting the model for TFIDF features\n",
    "lr_tfidf = lr.fit(tv_train_tweets, y_train)\n",
    "print(lr_tfidf)"
   ]
  },
  {
   "cell_type": "code",
   "execution_count": 39,
   "metadata": {},
   "outputs": [
    {
     "name": "stdout",
     "output_type": "stream",
     "text": [
      "[1 1 0 ... 1 1 1]\n",
      "[1 1 0 ... 1 1 1]\n"
     ]
    }
   ],
   "source": [
    "# Predicting the model for Bag of Words\n",
    "lr_bow_predict = lr.predict(cv_test_tweets)\n",
    "print(lr_bow_predict)\n",
    "\n",
    "# Predicting the model for TFIDF features\n",
    "lr_tfidf_predict = lr.predict(tv_test_tweets)\n",
    "print(lr_tfidf_predict)"
   ]
  },
  {
   "cell_type": "code",
   "execution_count": 40,
   "metadata": {},
   "outputs": [
    {
     "name": "stdout",
     "output_type": "stream",
     "text": [
      "LR BoW Score : 0.6327102803738318\n",
      "LR TFIDF Score : 0.6135514018691589\n"
     ]
    }
   ],
   "source": [
    "# Accuracy score for Bag of Words\n",
    "lr_bow_score = accuracy_score(y_test, lr_bow_predict)\n",
    "print(\"LR BoW Score :\",lr_bow_score)\n",
    "\n",
    "# Accuracy score for TFIDF features\n",
    "lr_tfidf_score = accuracy_score(y_test, lr_tfidf_predict)\n",
    "print(\"LR TFIDF Score :\",lr_tfidf_score)"
   ]
  },
  {
   "cell_type": "code",
   "execution_count": 41,
   "metadata": {},
   "outputs": [
    {
     "name": "stdout",
     "output_type": "stream",
     "text": [
      "              precision    recall  f1-score   support\n",
      "\n",
      "    Positive       0.71      0.42      0.53      1053\n",
      "    Negative       0.60      0.84      0.70      1087\n",
      "\n",
      "    accuracy                           0.63      2140\n",
      "   macro avg       0.66      0.63      0.61      2140\n",
      "weighted avg       0.66      0.63      0.62      2140\n",
      "\n",
      "              precision    recall  f1-score   support\n",
      "\n",
      "    Positive       0.71      0.36      0.48      1053\n",
      "    Negative       0.58      0.85      0.69      1087\n",
      "\n",
      "    accuracy                           0.61      2140\n",
      "   macro avg       0.64      0.61      0.59      2140\n",
      "weighted avg       0.64      0.61      0.59      2140\n",
      "\n"
     ]
    }
   ],
   "source": [
    "# Classification report for Bag of Words\n",
    "lr_bow_report = classification_report(y_test, lr_bow_predict, target_names = ['Positive','Negative'])\n",
    "print(lr_bow_report)\n",
    "\n",
    "# Classification report for TFIDF features\n",
    "lr_tfidf_report = classification_report(y_test, lr_tfidf_predict, target_names = ['Positive','Negative'])\n",
    "print(lr_tfidf_report)"
   ]
  },
  {
   "cell_type": "code",
   "execution_count": 42,
   "metadata": {},
   "outputs": [
    {
     "name": "stdout",
     "output_type": "stream",
     "text": [
      "[[908 179]\n",
      " [607 446]]\n",
      "[[929 158]\n",
      " [669 384]]\n"
     ]
    }
   ],
   "source": [
    "# Confusion matrix for Bag of Words\n",
    "cm_bow = confusion_matrix(y_test, lr_bow_predict, labels = [1,0])\n",
    "print(cm_bow)\n",
    "\n",
    "# Confusion matrix for TFIDF features\n",
    "cm_tfidf = confusion_matrix(y_test, lr_tfidf_predict, labels = [1,0])\n",
    "print(cm_tfidf)"
   ]
  },
  {
   "cell_type": "markdown",
   "metadata": {},
   "source": [
    "## <a class=\"anchor\" id=\"6.2.\">6.2. SGDClassifier</a>"
   ]
  },
  {
   "cell_type": "code",
   "execution_count": 43,
   "metadata": {},
   "outputs": [
    {
     "name": "stdout",
     "output_type": "stream",
     "text": [
      "SGDClassifier(alpha=0.0001, average=False, class_weight=None,\n",
      "              early_stopping=False, epsilon=0.1, eta0=0.0, fit_intercept=True,\n",
      "              l1_ratio=0.15, learning_rate='optimal', loss='hinge',\n",
      "              max_iter=500, n_iter_no_change=5, n_jobs=None, penalty='l2',\n",
      "              power_t=0.5, random_state=42, shuffle=True, tol=0.001,\n",
      "              validation_fraction=0.1, verbose=0, warm_start=False)\n",
      "SGDClassifier(alpha=0.0001, average=False, class_weight=None,\n",
      "              early_stopping=False, epsilon=0.1, eta0=0.0, fit_intercept=True,\n",
      "              l1_ratio=0.15, learning_rate='optimal', loss='hinge',\n",
      "              max_iter=500, n_iter_no_change=5, n_jobs=None, penalty='l2',\n",
      "              power_t=0.5, random_state=42, shuffle=True, tol=0.001,\n",
      "              validation_fraction=0.1, verbose=0, warm_start=False)\n"
     ]
    }
   ],
   "source": [
    "# Training the Linear SVM\n",
    "svm = SGDClassifier(loss='hinge', max_iter=500, random_state=42)\n",
    "\n",
    "# Fitting the SVM for Bag of Words\n",
    "svm_bow = svm.fit(cv_train_tweets, y_train)\n",
    "print(svm_bow)\n",
    "\n",
    "# Fitting the SVM for TFIDF features\n",
    "svm_tfidf = svm.fit(tv_train_tweets, y_train)\n",
    "print(svm_tfidf)"
   ]
  },
  {
   "cell_type": "code",
   "execution_count": 44,
   "metadata": {},
   "outputs": [
    {
     "name": "stdout",
     "output_type": "stream",
     "text": [
      "[1 1 0 ... 1 1 1]\n",
      "[1 1 0 ... 1 1 1]\n"
     ]
    }
   ],
   "source": [
    "# Predicting the model for Bag of Words\n",
    "svm_bow_predict = svm.predict(cv_test_tweets)\n",
    "print(svm_bow_predict)\n",
    "\n",
    "# Predicting the model for TFIDF features\n",
    "svm_tfidf_predict = svm.predict(tv_test_tweets)\n",
    "print(svm_tfidf_predict)"
   ]
  },
  {
   "cell_type": "code",
   "execution_count": 45,
   "metadata": {},
   "outputs": [
    {
     "name": "stdout",
     "output_type": "stream",
     "text": [
      "SVM BoW Score : 0.6434579439252337\n",
      "SVM TFIDF Score: 0.6350467289719626\n"
     ]
    }
   ],
   "source": [
    "# Accuracy score for Bag of Words\n",
    "svm_bow_score = accuracy_score(y_test, svm_bow_predict)\n",
    "print(\"SVM BoW Score :\",svm_bow_score)\n",
    "\n",
    "# Accuracy score for TFIDF features\n",
    "svm_tfidf_score = accuracy_score(y_test, svm_tfidf_predict)\n",
    "print(\"SVM TFIDF Score:\",svm_tfidf_score)"
   ]
  },
  {
   "cell_type": "code",
   "execution_count": 46,
   "metadata": {},
   "outputs": [
    {
     "name": "stdout",
     "output_type": "stream",
     "text": [
      "              precision    recall  f1-score   support\n",
      "\n",
      "    Positive       0.68      0.52      0.59      1053\n",
      "    Negative       0.62      0.76      0.69      1087\n",
      "\n",
      "    accuracy                           0.64      2140\n",
      "   macro avg       0.65      0.64      0.64      2140\n",
      "weighted avg       0.65      0.64      0.64      2140\n",
      "\n",
      "              precision    recall  f1-score   support\n",
      "\n",
      "    Positive       0.68      0.48      0.57      1053\n",
      "    Negative       0.61      0.78      0.68      1087\n",
      "\n",
      "    accuracy                           0.64      2140\n",
      "   macro avg       0.65      0.63      0.63      2140\n",
      "weighted avg       0.65      0.64      0.63      2140\n",
      "\n"
     ]
    }
   ],
   "source": [
    "# Classification report for Bag of Words \n",
    "svm_bow_report = classification_report(y_test, svm_bow_predict, target_names = ['Positive','Negative'])\n",
    "print(svm_bow_report)\n",
    "\n",
    "# Classification report for TFIDF features\n",
    "svm_tfidf_report = classification_report(y_test, svm_tfidf_predict, target_names = ['Positive','Negative'])\n",
    "print(svm_tfidf_report)"
   ]
  },
  {
   "cell_type": "code",
   "execution_count": 47,
   "metadata": {},
   "outputs": [
    {
     "name": "stdout",
     "output_type": "stream",
     "text": [
      "[[830 257]\n",
      " [506 547]]\n",
      "[[849 238]\n",
      " [543 510]]\n"
     ]
    }
   ],
   "source": [
    "# Confusion matrix for Bag of Words\n",
    "cm_bow = confusion_matrix(y_test, svm_bow_predict, labels = [1,0])\n",
    "print(cm_bow)\n",
    "\n",
    "# Confusion matrix for TFIDF features\n",
    "cm_tfidf = confusion_matrix(y_test, svm_tfidf_predict, labels = [1,0])\n",
    "print(cm_tfidf)"
   ]
  },
  {
   "cell_type": "markdown",
   "metadata": {},
   "source": [
    "## <a class=\"anchor\" id=\"6.3.\">6.3. Naive Bayes</a>"
   ]
  },
  {
   "cell_type": "code",
   "execution_count": 48,
   "metadata": {},
   "outputs": [
    {
     "name": "stdout",
     "output_type": "stream",
     "text": [
      "MultinomialNB(alpha=1.0, class_prior=None, fit_prior=True)\n",
      "MultinomialNB(alpha=1.0, class_prior=None, fit_prior=True)\n"
     ]
    }
   ],
   "source": [
    "# Training the model\n",
    "mnb = MultinomialNB()\n",
    "\n",
    "# Fitting the NB for Bag of Words\n",
    "mnb_bow = mnb.fit(cv_train_tweets, y_train)\n",
    "print(mnb_bow)\n",
    "\n",
    "# Fitting the NB for TFIDF features\n",
    "mnb_tfidf = mnb.fit(tv_train_tweets, y_train)\n",
    "print(mnb_tfidf)"
   ]
  },
  {
   "cell_type": "code",
   "execution_count": 49,
   "metadata": {},
   "outputs": [
    {
     "name": "stdout",
     "output_type": "stream",
     "text": [
      "[1 1 0 ... 1 1 1]\n",
      "[1 1 0 ... 1 1 1]\n"
     ]
    }
   ],
   "source": [
    "# Predicting the model for Bag of Words\n",
    "mnb_bow_predict = mnb.predict(cv_test_tweets)\n",
    "print(mnb_bow_predict)\n",
    "\n",
    "# Predicting the model for TFIDF features\n",
    "mnb_tfidf_predict = mnb.predict(tv_test_tweets)\n",
    "print(mnb_tfidf_predict)"
   ]
  },
  {
   "cell_type": "code",
   "execution_count": 50,
   "metadata": {},
   "outputs": [
    {
     "name": "stdout",
     "output_type": "stream",
     "text": [
      "MNB BoW Score : 0.6364485981308411\n",
      "MNB TFIDF Score : 0.6322429906542056\n"
     ]
    }
   ],
   "source": [
    "# Accuracy score for Bag of Words\n",
    "mnb_bow_score = accuracy_score(y_test, mnb_bow_predict)\n",
    "print(\"MNB BoW Score :\",mnb_bow_score)\n",
    "\n",
    "# Accuracy score for TFIDF features\n",
    "mnb_tfidf_score = accuracy_score(y_test, mnb_tfidf_predict)\n",
    "print(\"MNB TFIDF Score :\",mnb_tfidf_score)"
   ]
  },
  {
   "cell_type": "code",
   "execution_count": 51,
   "metadata": {},
   "outputs": [
    {
     "name": "stdout",
     "output_type": "stream",
     "text": [
      "              precision    recall  f1-score   support\n",
      "\n",
      "    Positive       0.68      0.50      0.57      1053\n",
      "    Negative       0.61      0.77      0.68      1087\n",
      "\n",
      "    accuracy                           0.64      2140\n",
      "   macro avg       0.65      0.63      0.63      2140\n",
      "weighted avg       0.64      0.64      0.63      2140\n",
      "\n",
      "              precision    recall  f1-score   support\n",
      "\n",
      "    Positive       0.68      0.48      0.56      1053\n",
      "    Negative       0.61      0.78      0.68      1087\n",
      "\n",
      "    accuracy                           0.63      2140\n",
      "   macro avg       0.64      0.63      0.62      2140\n",
      "weighted avg       0.64      0.63      0.62      2140\n",
      "\n"
     ]
    }
   ],
   "source": [
    "# Classification report for Bag of Words\n",
    "mnb_bow_report = classification_report(y_test, mnb_bow_predict, target_names = ['Positive','Negative'])\n",
    "print(mnb_bow_report)\n",
    "\n",
    "# Classification report for TFIDF features\n",
    "mnb_tfidf_report = classification_report(y_test, mnb_tfidf_predict, target_names = ['Positive','Negative'])\n",
    "print(mnb_tfidf_report)"
   ]
  },
  {
   "cell_type": "code",
   "execution_count": 52,
   "metadata": {},
   "outputs": [
    {
     "name": "stdout",
     "output_type": "stream",
     "text": [
      "[[836 251]\n",
      " [527 526]]\n",
      "[[851 236]\n",
      " [551 502]]\n"
     ]
    }
   ],
   "source": [
    "# Confusion matrix for Bag of Words\n",
    "cm_bow = confusion_matrix(y_test, mnb_bow_predict, labels = [1,0])\n",
    "print(cm_bow)\n",
    "\n",
    "# Confusion matrix for TFIDF features\n",
    "cm_tfidf = confusion_matrix(y_test, mnb_tfidf_predict, labels = [1,0])\n",
    "print(cm_tfidf)"
   ]
  }
 ],
 "metadata": {
  "kernelspec": {
   "display_name": "Python 3",
   "language": "python",
   "name": "python3"
  },
  "language_info": {
   "codemirror_mode": {
    "name": "ipython",
    "version": 3
   },
   "file_extension": ".py",
   "mimetype": "text/x-python",
   "name": "python",
   "nbconvert_exporter": "python",
   "pygments_lexer": "ipython3",
   "version": "3.7.6"
  }
 },
 "nbformat": 4,
 "nbformat_minor": 4
}
